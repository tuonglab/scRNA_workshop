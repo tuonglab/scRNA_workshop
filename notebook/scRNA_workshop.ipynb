{
  "cells": [
    {
      "cell_type": "markdown",
      "metadata": {
        "id": "view-in-github",
        "colab_type": "text"
      },
      "source": [
        "<a href=\"https://colab.research.google.com/github/tuonglab/scRNA_workshop/blob/master/notebook/scRNA_workshop.ipynb\" target=\"_parent\"><img src=\"https://colab.research.google.com/assets/colab-badge.svg\" alt=\"Open In Colab\"/></a>"
      ]
    },
    {
      "cell_type": "markdown",
      "metadata": {
        "id": "dKplgAn4HDd_"
      },
      "source": [
        "# scRNA-seq workshop analysis demo!\n",
        "\n",
        "Before we dive into the demo, let's first install the necessary packages."
      ]
    },
    {
      "cell_type": "code",
      "execution_count": null,
      "metadata": {
        "id": "R5OS_FAtkT8A"
      },
      "outputs": [],
      "source": [
        "# setup the notebook\n",
        "!pip install -qqq scanpy[leiden] harmonypy celltypist\n",
        "# then clone the repository so that we have all the data and notebooks ready to go\n",
        "!git clone https://github.com/tuonglab/scRNA_workshop.git"
      ]
    },
    {
      "cell_type": "markdown",
      "metadata": {
        "id": "jyeGlt5HkR-O"
      },
      "source": [
        "# Single-cell RNA seq analysis Demo"
      ]
    },
    {
      "cell_type": "markdown",
      "metadata": {
        "id": "p4LcZHPGkR-S"
      },
      "source": [
        "This demo will show you the common steps involved to get you started on single cell analysis in Python using [`Scanpy`](https://scanpy.readthedocs.io/en/stable/), the toolkit for analysing single-cell gene expression data.\n",
        "\n",
        "<a href=\"https://scanpy.readthedocs.io/en/stable/\"><img src=\"https://scanpy.readthedocs.io/en/stable/_static/Scanpy_Logo_BrightFG.svg\" alt=\"anndata_schema\" width=\"100\">\n"
      ]
    },
    {
      "cell_type": "markdown",
      "metadata": {
        "id": "Dbk22jSnkR-T"
      },
      "source": [
        "## Preprocessing and Quality Control"
      ]
    },
    {
      "cell_type": "markdown",
      "metadata": {
        "id": "20nZhDH6kR-U"
      },
      "source": [
        "First, import packages needed for single-cell RNA seq analysis."
      ]
    },
    {
      "cell_type": "code",
      "execution_count": null,
      "metadata": {
        "id": "Damq_kOCkR-U"
      },
      "outputs": [],
      "source": [
        "import os\n",
        "\n",
        "import scanpy as sc\n",
        "import pandas as pd\n",
        "\n",
        "# change to working directory\n",
        "os.chdir(\"scRNA_workshop\")"
      ]
    },
    {
      "cell_type": "markdown",
      "metadata": {
        "id": "ptMIeRZCkR-Y"
      },
      "source": [
        "### Reading in files for analysis\n",
        "\n",
        "For this demo, we have already saved the starting raw datafile as an `.h5ad` file which is a common file format used in single-cell analysis. You can read in the file using the `read_h5ad` function from [`anndata`](https://anndata.readthedocs.io/) package.\n",
        "\n",
        "This file contains the raw counts of the cells and genes, as well as the metadata associated with the cells and genes.\n",
        "\n",
        "The file is saved in the `data` folder.\n",
        "\n",
        "\n",
        "<a href=\"https://anndata.readthedocs.io/\"><img src=\"https://raw.githubusercontent.com/scverse/anndata/main/docs/_static/img/anndata_schema.svg\" alt=\"anndata_schema\" width=\"500\">"
      ]
    },
    {
      "cell_type": "markdown",
      "metadata": {
        "id": "cnhzn07yoAGb"
      },
      "source": [
        "The dataset we will be demo-ing today is on the human prostate.\n",
        "\n",
        "<a href=\"https://www.frontiersin.org/journals/endocrinology/articles/10.3389/fendo.2022.1006101/full\"><img src=\"https://www.frontiersin.org/files/Articles/1006101/fendo-13-1006101-HTML-r1/image_m/fendo-13-1006101-g001.jpg\" alt=\"human prostate schema\" width=\"500\">\n"
      ]
    },
    {
      "cell_type": "code",
      "execution_count": null,
      "metadata": {
        "id": "4LpdCxz_kR-Y"
      },
      "outputs": [],
      "source": [
        "adata = sc.read_h5ad(\"data/prostate_demo.h5ad\")\n",
        "adata"
      ]
    },
    {
      "cell_type": "markdown",
      "metadata": {
        "id": "ihLX30LheWaQ"
      },
      "source": [
        "## Standard Quality control\n",
        "\n",
        "A very common QC step is to assess the mitochondrial content.\n",
        "\n",
        "High mitochondrial content is often associated with poor quality cells. We can calculate the percentage of mitochondrial genes in each cell and plot it."
      ]
    },
    {
      "cell_type": "code",
      "execution_count": null,
      "metadata": {
        "id": "TGb0oRl-eWaQ"
      },
      "outputs": [],
      "source": [
        "# mitochondrial genes, \"MT-\" for human, \"Mt-\" for mouse\n",
        "adata.var[\"mt\"] = adata.var_names.str.startswith(\"MT-\")\n",
        "sc.pp.calculate_qc_metrics(\n",
        "    adata,\n",
        "    qc_vars=[\n",
        "        \"mt\",\n",
        "    ],\n",
        "    inplace=True,\n",
        "    log1p=True,\n",
        ")"
      ]
    },
    {
      "cell_type": "code",
      "execution_count": null,
      "metadata": {
        "id": "gIpaxuPOeWaQ"
      },
      "outputs": [],
      "source": [
        "sc.pl.violin(\n",
        "    adata,\n",
        "    [\n",
        "        \"n_genes_by_counts\",  # the number of genes expressed in the count matrix\n",
        "        \"total_counts\",  # the total umi counts per cell\n",
        "        \"pct_counts_mt\",  # the percentage of counts in mitochondrial/ribosomal genes\n",
        "    ],\n",
        "    jitter=0.4,\n",
        "    multi_panel=True,\n",
        ")"
      ]
    },
    {
      "cell_type": "markdown",
      "metadata": {
        "id": "VRMfMvoJkR-a"
      },
      "source": [
        "Continue processing with \"good\" cells only.."
      ]
    },
    {
      "cell_type": "code",
      "execution_count": null,
      "metadata": {
        "id": "gFUet2zPkR-a"
      },
      "outputs": [],
      "source": [
        "# filter cells if they do not express at least 200 genes\n",
        "sc.pp.filter_cells(adata, min_genes=200)\n",
        "# filter genes if they are expressed in at least 3 cells\n",
        "sc.pp.filter_genes(adata, min_cells=3)\n",
        "# always check after you have done some filtering to ensure that you are happy with the results\n",
        "adata"
      ]
    },
    {
      "cell_type": "markdown",
      "metadata": {
        "id": "hMTXCmYwkR-b"
      },
      "source": [
        "## Normalisation"
      ]
    },
    {
      "cell_type": "code",
      "execution_count": null,
      "metadata": {
        "id": "31GZf02qkR-j"
      },
      "outputs": [],
      "source": [
        "# Normalise (library-size correct) the data matrix 𝐗 to 10,000 counts per cell, so that information become comparable between cells.\n",
        "sc.pp.normalize_total(adata, target_sum=1e4)\n",
        "\n",
        "# Logarithmise the data:\n",
        "sc.pp.log1p(adata)"
      ]
    },
    {
      "cell_type": "markdown",
      "metadata": {
        "id": "S5sS4-TveWaQ"
      },
      "source": [
        "## Highly Variable Feature/Gene selection"
      ]
    },
    {
      "cell_type": "markdown",
      "metadata": {
        "id": "nOtGQx1GkR-k"
      },
      "source": [
        "Identify and inspect highly-variable genes"
      ]
    },
    {
      "cell_type": "code",
      "execution_count": null,
      "metadata": {
        "id": "laIpQxySkR-k"
      },
      "outputs": [],
      "source": [
        "# (Expects logarithimised data)\n",
        "sc.pp.highly_variable_genes(adata, min_mean=0.0125, max_mean=3, min_disp=0.5)\n",
        "sc.pl.highly_variable_genes(adata)\n",
        "# stash the normalised counts in .raw, before we subset to only highly variable genes\n",
        "adata.raw = adata"
      ]
    },
    {
      "cell_type": "markdown",
      "metadata": {
        "id": "Ob6rvq5DkR-o"
      },
      "source": [
        "## Dimensionality Reduction"
      ]
    },
    {
      "cell_type": "markdown",
      "metadata": {
        "id": "Vu0IpuaAkR-o"
      },
      "source": [
        "### Step 1: Subset to only highly variable genes"
      ]
    },
    {
      "cell_type": "code",
      "execution_count": null,
      "metadata": {
        "id": "ujCYgSqikR-o",
        "scrolled": true
      },
      "outputs": [],
      "source": [
        "# Actually do the filtering for PCA\n",
        "adata = adata[:, adata.var[\"highly_variable\"] == True].copy()\n",
        "adata"
      ]
    },
    {
      "cell_type": "markdown",
      "metadata": {
        "id": "SpJWxehWkR-o"
      },
      "source": [
        "### Step 2: Regress out effects of \"total_counts\" per cell and percentage of mitochondrial genes expressed"
      ]
    },
    {
      "cell_type": "code",
      "execution_count": null,
      "metadata": {
        "id": "FJnkYcs4kR-p"
      },
      "outputs": [],
      "source": [
        "sc.pp.regress_out(adata, [\"total_counts\", \"pct_counts_mt\"])"
      ]
    },
    {
      "cell_type": "markdown",
      "metadata": {
        "id": "42fj9mNVkR-p"
      },
      "source": [
        "### Step 3: Scale each gene to unit variance. Clip values exceeding standard deviation of 10."
      ]
    },
    {
      "cell_type": "code",
      "execution_count": null,
      "metadata": {
        "id": "ek0WgP_6kR-p"
      },
      "outputs": [],
      "source": [
        "sc.pp.scale(adata, max_value=10)"
      ]
    },
    {
      "cell_type": "markdown",
      "metadata": {
        "id": "fb03DQEIeWaU"
      },
      "source": [
        "### Step 4: Perform Principal Component Analysis (PCA)"
      ]
    },
    {
      "cell_type": "code",
      "execution_count": null,
      "metadata": {
        "id": "teCcK9a9kR-p"
      },
      "outputs": [],
      "source": [
        "sc.tl.pca(adata)\n",
        "# visualise the variance contribution by each PC\n",
        "sc.pl.pca_variance_ratio(adata, log=True, n_pcs=50)"
      ]
    },
    {
      "cell_type": "markdown",
      "metadata": {
        "id": "Q2EN9MnPeWaU"
      },
      "source": [
        "### Step 5: Compute neighbourhood graph"
      ]
    },
    {
      "cell_type": "code",
      "execution_count": null,
      "metadata": {
        "id": "hRv3VFrkkR-p"
      },
      "outputs": [],
      "source": [
        "sc.pp.neighbors(adata, n_neighbors=10, n_pcs=40)"
      ]
    },
    {
      "cell_type": "markdown",
      "metadata": {
        "id": "FtYnUP9CkR-p"
      },
      "source": [
        "### Step 6: Embed the neighbourhood graph using UMAP\n",
        "\n",
        "UMAP stands for Uniform Manifold Approximation and Projection. It is a non-linear dimensionality reduction technique that is well-suited for preserving local structure in high-dimensional data."
      ]
    },
    {
      "cell_type": "code",
      "execution_count": null,
      "metadata": {
        "id": "0iNxC3D2kR-q"
      },
      "outputs": [],
      "source": [
        "sc.tl.umap(adata)"
      ]
    },
    {
      "cell_type": "markdown",
      "metadata": {
        "id": "AXE8XTElkR-q"
      },
      "source": [
        "#### Visualise UMAP:"
      ]
    },
    {
      "cell_type": "code",
      "execution_count": null,
      "metadata": {
        "id": "wESPRZGBkR-q"
      },
      "outputs": [],
      "source": [
        "sc.pl.umap(adata, color=[\"patient\", \"group\", \"age\"])"
      ]
    },
    {
      "cell_type": "markdown",
      "metadata": {
        "id": "6SYOA06-eWaU"
      },
      "source": [
        "### Reapeat with batch correction!\n",
        "\n",
        "Harmony is a popular batch correction tool that iteratively learns a cell-specific linear correction function at the level of PCA space. It is a very powerful tool for batch correction in single-cell analysis.\n",
        "\n",
        "It can project cells into a shared embedding in which cells group by cell type rather than dataset-specific conditions, simultaneously accounts for multiple experimental and biological factors."
      ]
    },
    {
      "cell_type": "code",
      "execution_count": null,
      "metadata": {
        "id": "vuVFdnr-eWaV"
      },
      "outputs": [],
      "source": [
        "# repeat the steps until umap\n",
        "sc.external.pp.harmony_integrate(adata, key=\"barcode\")\n",
        "sc.pp.neighbors(adata, n_neighbors=10, use_rep=\"X_pca_harmony\")\n",
        "sc.tl.umap(adata)\n",
        "sc.pl.umap(adata, color=[\"patient\"])"
      ]
    },
    {
      "cell_type": "markdown",
      "metadata": {
        "id": "hSbZsW6NeWaV"
      },
      "source": [
        "### Step 6: Clustering\n",
        "\n",
        "We will use the `leiden` algorithm to cluster the cells into different groups. It is a graph-based clustering algorithm that is very popular in single-cell analysis. It is based on optimizing a modularity function that is used to detect communities in networks. It has a resolution parameter that can be tuned to get different levels of granularity in the clustering."
      ]
    },
    {
      "cell_type": "code",
      "execution_count": null,
      "metadata": {
        "id": "2aQ0348JeWaV"
      },
      "outputs": [],
      "source": [
        "sc.tl.leiden(adata, resolution=0.5)\n",
        "sc.pl.umap(adata, color=\"leiden\")"
      ]
    },
    {
      "cell_type": "markdown",
      "metadata": {
        "id": "IjELBzUYeWaV"
      },
      "source": [
        "### Step 7: Cell type annotation\n",
        "\n",
        "One of the most important steps for scRNA-seq analysis is to perform cell-type annotation. If we don't do this, we can't interpret the data.\n",
        "\n",
        "Today, we will use a tool called `CellTypist` to help us automate this process."
      ]
    },
    {
      "cell_type": "markdown",
      "metadata": {
        "id": "tgYTWkO6eWaW"
      },
      "source": [
        "[`CellTypist`](https://www.celltypist.org/) is a tool that uses a machine learning model to predict cell types based on marker genes. It is a very powerful tool that can be used to predict cell types in single-cell data.\n",
        "\n",
        "First, install `celltypist` and prepare the data."
      ]
    },
    {
      "cell_type": "code",
      "execution_count": null,
      "metadata": {
        "id": "sp1ESlEbgdM8"
      },
      "outputs": [],
      "source": [
        "# make a copy of the log1p normalised data for celltypist\n",
        "for_celltypist = adata.raw.to_adata()"
      ]
    },
    {
      "cell_type": "code",
      "source": [
        "# load up celltypist\n",
        "import celltypist\n",
        "from celltypist import models\n",
        "#Download a specific model, for example, `Immune_All_Low.pkl`.\n",
        "models.download_models(model = 'Immune_All_Low.pkl')"
      ],
      "metadata": {
        "id": "P6t4qY21fCgy"
      },
      "execution_count": null,
      "outputs": []
    },
    {
      "cell_type": "markdown",
      "metadata": {
        "id": "OFr488TaeWaW"
      },
      "source": [
        "Run celltypist on our data and allow it to predict labels on each single cell with all the specifications needed."
      ]
    },
    {
      "cell_type": "code",
      "source": [
        "predictions = celltypist.annotate(for_celltypist, model = 'Immune_All_Low.pkl', majority_voting = True)\n",
        "# transfer the predictions back to the original adata\n",
        "adata.obs[\"celltypist_majority_voting\"] = predictions.predicted_labels.majority_voting"
      ],
      "metadata": {
        "id": "fLxSyqePfvSF"
      },
      "execution_count": null,
      "outputs": []
    },
    {
      "cell_type": "markdown",
      "metadata": {
        "id": "h9Uf3-vJeWaW"
      },
      "source": [
        "Visualise the data via umap with the new celltypist labels"
      ]
    },
    {
      "cell_type": "code",
      "execution_count": null,
      "metadata": {
        "id": "poeiyAmgeWaW"
      },
      "outputs": [],
      "source": [
        "sc.pl.umap(adata, color=[\"celltypist_majority_voting\"])"
      ]
    },
    {
      "cell_type": "markdown",
      "metadata": {
        "id": "RBalqywZeWaW"
      },
      "source": [
        "### Let's examine some genes"
      ]
    },
    {
      "cell_type": "code",
      "execution_count": null,
      "metadata": {
        "id": "QS9J76CzeWaX"
      },
      "outputs": [],
      "source": [
        "# these are T-cell genes\n",
        "marker_genes = [\n",
        "    \"CD4\",\n",
        "    \"CD8B\",\n",
        "    \"FOXP3\",\n",
        "    \"SELL\",\n",
        "    \"CCR7\",\n",
        "    \"MKI67\",\n",
        "    \"NKG7\",\n",
        "    \"GATA3\",\n",
        "    \"RORC\",\n",
        "    \"CXCR5\",\n",
        "    \"CD69\",\n",
        "    \"GZMK\",\n",
        "]\n",
        "sc.pl.umap(adata, color=marker_genes, ncols=3)"
      ]
    },
    {
      "cell_type": "code",
      "execution_count": null,
      "metadata": {
        "id": "WuRuQyopeWaX"
      },
      "outputs": [],
      "source": [
        "sc.pl.dotplot(\n",
        "    adata, marker_genes, groupby=\"celltypist_majority_voting\", standard_scale=\"var\", color_map=\"Blues\"\n",
        ")"
      ]
    },
    {
      "cell_type": "markdown",
      "metadata": {
        "id": "nNjdC73HkR_B"
      },
      "source": [
        "This marks the end of the demo. Good job!\n",
        "\n",
        "# Other useful resources\n",
        "For more details on the dataset that we demoed today, please checkout the original publication and data portal:\n",
        "\n",
        "https://www.prostatecellatlas.org/\n",
        "\n",
        "<a href=\"https://doi.org/10.1016/j.celrep.2021.110132\"><img src=\"https://www.prostatecellatlas.org/assets/cover.jpg\" alt=\"prostate_cellrep\" width=\"200\">"
      ]
    },
    {
      "cell_type": "markdown",
      "metadata": {
        "id": "yGqt0QOtnRme"
      },
      "source": [
        "If you have any questions, email Kelvin at z.tuong@uq.edu.au"
      ]
    },
    {
      "cell_type": "markdown",
      "metadata": {
        "id": "YGo3wdJHbG7Q"
      },
      "source": []
    }
  ],
  "metadata": {
    "colab": {
      "provenance": [],
      "include_colab_link": true
    },
    "kernelspec": {
      "display_name": "dandelion",
      "language": "python",
      "name": "python3"
    },
    "language_info": {
      "codemirror_mode": {
        "name": "ipython",
        "version": 3
      },
      "file_extension": ".py",
      "mimetype": "text/x-python",
      "name": "python",
      "nbconvert_exporter": "python",
      "pygments_lexer": "ipython3",
      "version": "3.11.9"
    }
  },
  "nbformat": 4,
  "nbformat_minor": 0
}