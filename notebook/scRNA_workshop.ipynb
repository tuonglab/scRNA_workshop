{
  "cells": [
    {
      "cell_type": "markdown",
      "metadata": {
        "id": "view-in-github",
        "colab_type": "text"
      },
      "source": [
        "<a href=\"https://colab.research.google.com/github/tuonglab/scRNA_workshop/blob/master/notebook/scRNA_workshop.ipynb\" target=\"_parent\"><img src=\"https://colab.research.google.com/assets/colab-badge.svg\" alt=\"Open In Colab\"/></a>"
      ]
    },
    {
      "cell_type": "markdown",
      "metadata": {
        "id": "dKplgAn4HDd_"
      },
      "source": [
        "# scRNA-seq workshop analysis demo!\n",
        "\n",
        "Before we dive into the demo, let's first install the necessary packages."
      ]
    },
    {
      "cell_type": "code",
      "execution_count": 1,
      "metadata": {
        "id": "R5OS_FAtkT8A",
        "outputId": "56efdf1b-7b24-4dc2-bb26-7d67c96978d3",
        "colab": {
          "base_uri": "https://localhost:8080/"
        }
      },
      "outputs": [
        {
          "output_type": "stream",
          "name": "stdout",
          "text": [
            "\u001b[?25l   \u001b[90m━━━━━━━━━━━━━━━━━━━━━━━━━━━━━━━━━━━━━━━━\u001b[0m \u001b[32m0.0/144.5 kB\u001b[0m \u001b[31m?\u001b[0m eta \u001b[36m-:--:--\u001b[0m\r\u001b[2K   \u001b[90m━━━━━━━━━━━━━━━━━━━━━━━━━━━━━━━━━━━━━━━━\u001b[0m \u001b[32m144.5/144.5 kB\u001b[0m \u001b[31m5.0 MB/s\u001b[0m eta \u001b[36m0:00:00\u001b[0m\n",
            "\u001b[2K   \u001b[90m━━━━━━━━━━━━━━━━━━━━━━━━━━━━━━━━━━━━━━━━\u001b[0m \u001b[32m4.4/4.4 MB\u001b[0m \u001b[31m41.8 MB/s\u001b[0m eta \u001b[36m0:00:00\u001b[0m\n",
            "\u001b[2K   \u001b[90m━━━━━━━━━━━━━━━━━━━━━━━━━━━━━━━━━━━━━━━━\u001b[0m \u001b[32m2.0/2.0 MB\u001b[0m \u001b[31m16.9 MB/s\u001b[0m eta \u001b[36m0:00:00\u001b[0m\n",
            "\u001b[2K   \u001b[90m━━━━━━━━━━━━━━━━━━━━━━━━━━━━━━━━━━━━━━━━\u001b[0m \u001b[32m2.1/2.1 MB\u001b[0m \u001b[31m29.9 MB/s\u001b[0m eta \u001b[36m0:00:00\u001b[0m\n",
            "\u001b[2K   \u001b[90m━━━━━━━━━━━━━━━━━━━━━━━━━━━━━━━━━━━━━━━━\u001b[0m \u001b[32m58.2/58.2 kB\u001b[0m \u001b[31m3.1 MB/s\u001b[0m eta \u001b[36m0:00:00\u001b[0m\n",
            "\u001b[?25hCloning into 'scRNA_workshop'...\n",
            "remote: Enumerating objects: 65, done.\u001b[K\n",
            "remote: Counting objects: 100% (51/51), done.\u001b[K\n",
            "remote: Compressing objects: 100% (39/39), done.\u001b[K\n",
            "remote: Total 65 (delta 25), reused 24 (delta 8), pack-reused 14 (from 1)\u001b[K\n",
            "Receiving objects: 100% (65/65), 67.62 MiB | 34.40 MiB/s, done.\n",
            "Resolving deltas: 100% (27/27), done.\n"
          ]
        }
      ],
      "source": [
        "# setup the notebook\n",
        "!pip install -qqq scanpy[leiden]\n",
        "# second thing to do is to clone the repository so that we have all the data and notebooks ready to go\n",
        "!git clone https://github.com/tuonglab/scRNA_workshop.git"
      ]
    },
    {
      "cell_type": "markdown",
      "metadata": {
        "id": "jyeGlt5HkR-O"
      },
      "source": [
        "# Single-cell RNA seq analysis Demo"
      ]
    },
    {
      "cell_type": "markdown",
      "metadata": {
        "id": "p4LcZHPGkR-S"
      },
      "source": [
        "This demo will show you the common steps involved to get you started on single cell analysis in Python using [`Scanpy`](https://scanpy.readthedocs.io/en/stable/), the toolkit for analysing single-cell gene expression data.\n",
        "\n",
        "<a href=\"https://scanpy.readthedocs.io/en/stable/\"><img src=\"https://scanpy.readthedocs.io/en/stable/_static/Scanpy_Logo_BrightFG.svg\" alt=\"anndata_schema\" width=\"100\">\n"
      ]
    },
    {
      "cell_type": "markdown",
      "metadata": {
        "id": "Dbk22jSnkR-T"
      },
      "source": [
        "## Preprocessing and Quality Control"
      ]
    },
    {
      "cell_type": "markdown",
      "metadata": {
        "id": "20nZhDH6kR-U"
      },
      "source": [
        "First, import packages needed for single-cell RNA seq analysis."
      ]
    },
    {
      "cell_type": "code",
      "execution_count": 3,
      "metadata": {
        "id": "Damq_kOCkR-U",
        "outputId": "0484801a-e34b-4712-8cb5-9bdada106cb4",
        "colab": {
          "base_uri": "https://localhost:8080/",
          "height": 1000
        }
      },
      "outputs": [
        {
          "output_type": "stream",
          "name": "stderr",
          "text": [
            "/usr/local/lib/python3.11/dist-packages/session_info2/__init__.py:124: UserWarning: The '__version__' attribute is deprecated and will be removed in MarkupSafe 3.1. Use feature detection, or `importlib.metadata.version(\"markupsafe\")`, instead.\n",
            "  and (v := getattr(pkg, \"__version__\", None))\n"
          ]
        },
        {
          "output_type": "error",
          "ename": "AttributeError",
          "evalue": "'HBox' object has no attribute '_repr_mimebundle_'",
          "traceback": [
            "\u001b[0;31m---------------------------------------------------------------------------\u001b[0m",
            "\u001b[0;31mAttributeError\u001b[0m                            Traceback (most recent call last)",
            "\u001b[0;32m/usr/local/lib/python3.11/dist-packages/IPython/core/formatters.py\u001b[0m in \u001b[0;36m__call__\u001b[0;34m(self, obj, include, exclude)\u001b[0m\n\u001b[1;32m    968\u001b[0m \u001b[0;34m\u001b[0m\u001b[0m\n\u001b[1;32m    969\u001b[0m             \u001b[0;32mif\u001b[0m \u001b[0mmethod\u001b[0m \u001b[0;32mis\u001b[0m \u001b[0;32mnot\u001b[0m \u001b[0;32mNone\u001b[0m\u001b[0;34m:\u001b[0m\u001b[0;34m\u001b[0m\u001b[0;34m\u001b[0m\u001b[0m\n\u001b[0;32m--> 970\u001b[0;31m                 \u001b[0;32mreturn\u001b[0m \u001b[0mmethod\u001b[0m\u001b[0;34m(\u001b[0m\u001b[0minclude\u001b[0m\u001b[0;34m=\u001b[0m\u001b[0minclude\u001b[0m\u001b[0;34m,\u001b[0m \u001b[0mexclude\u001b[0m\u001b[0;34m=\u001b[0m\u001b[0mexclude\u001b[0m\u001b[0;34m)\u001b[0m\u001b[0;34m\u001b[0m\u001b[0;34m\u001b[0m\u001b[0m\n\u001b[0m\u001b[1;32m    971\u001b[0m             \u001b[0;32mreturn\u001b[0m \u001b[0;32mNone\u001b[0m\u001b[0;34m\u001b[0m\u001b[0;34m\u001b[0m\u001b[0m\n\u001b[1;32m    972\u001b[0m         \u001b[0;32melse\u001b[0m\u001b[0;34m:\u001b[0m\u001b[0;34m\u001b[0m\u001b[0;34m\u001b[0m\u001b[0m\n",
            "\u001b[0;32m/usr/local/lib/python3.11/dist-packages/session_info2/_repr.py\u001b[0m in \u001b[0;36mrepr_mimebundle\u001b[0;34m(si, include, exclude, **_kwargs)\u001b[0m\n\u001b[1;32m    177\u001b[0m             \u001b[0;32mcontinue\u001b[0m\u001b[0;34m\u001b[0m\u001b[0;34m\u001b[0m\u001b[0m\n\u001b[1;32m    178\u001b[0m         \u001b[0;32mtry\u001b[0m\u001b[0;34m:\u001b[0m\u001b[0;34m\u001b[0m\u001b[0;34m\u001b[0m\u001b[0m\n\u001b[0;32m--> 179\u001b[0;31m             \u001b[0mmb\u001b[0m\u001b[0;34m[\u001b[0m\u001b[0mmime\u001b[0m\u001b[0;34m]\u001b[0m \u001b[0;34m=\u001b[0m \u001b[0mrepr_fn\u001b[0m\u001b[0;34m(\u001b[0m\u001b[0msi\u001b[0m\u001b[0;34m)\u001b[0m\u001b[0;34m\u001b[0m\u001b[0;34m\u001b[0m\u001b[0m\n\u001b[0m\u001b[1;32m    180\u001b[0m         \u001b[0;32mexcept\u001b[0m \u001b[0mImportError\u001b[0m \u001b[0;32mas\u001b[0m \u001b[0me\u001b[0m\u001b[0;34m:\u001b[0m\u001b[0;34m\u001b[0m\u001b[0;34m\u001b[0m\u001b[0m\n\u001b[1;32m    181\u001b[0m             msg = (\n",
            "\u001b[0;32m/usr/local/lib/python3.11/dist-packages/session_info2/_repr.py\u001b[0m in \u001b[0;36mrepr_widget\u001b[0;34m(si)\u001b[0m\n\u001b[1;32m    139\u001b[0m \u001b[0;34m\u001b[0m\u001b[0m\n\u001b[1;32m    140\u001b[0m \u001b[0;32mdef\u001b[0m \u001b[0mrepr_widget\u001b[0m\u001b[0;34m(\u001b[0m\u001b[0msi\u001b[0m\u001b[0;34m:\u001b[0m \u001b[0mSessionInfo\u001b[0m\u001b[0;34m)\u001b[0m \u001b[0;34m->\u001b[0m \u001b[0mdict\u001b[0m\u001b[0;34m[\u001b[0m\u001b[0mstr\u001b[0m\u001b[0;34m,\u001b[0m \u001b[0mstr\u001b[0m\u001b[0;34m]\u001b[0m\u001b[0;34m:\u001b[0m\u001b[0;34m\u001b[0m\u001b[0;34m\u001b[0m\u001b[0m\n\u001b[0;32m--> 141\u001b[0;31m     \u001b[0mwidget_bundle\u001b[0m \u001b[0;34m=\u001b[0m \u001b[0msi\u001b[0m\u001b[0;34m.\u001b[0m\u001b[0mwidget\u001b[0m\u001b[0;34m(\u001b[0m\u001b[0;34m)\u001b[0m\u001b[0;34m.\u001b[0m\u001b[0m_repr_mimebundle_\u001b[0m\u001b[0;34m(\u001b[0m\u001b[0;34m)\u001b[0m\u001b[0;34m\u001b[0m\u001b[0;34m\u001b[0m\u001b[0m\n\u001b[0m\u001b[1;32m    142\u001b[0m     \u001b[0;32mreturn\u001b[0m \u001b[0mwidget_bundle\u001b[0m\u001b[0;34m[\u001b[0m\u001b[0mMIME_WIDGET\u001b[0m\u001b[0;34m]\u001b[0m  \u001b[0;31m# type: ignore[no-any-return]\u001b[0m\u001b[0;34m\u001b[0m\u001b[0;34m\u001b[0m\u001b[0m\n\u001b[1;32m    143\u001b[0m \u001b[0;34m\u001b[0m\u001b[0m\n",
            "\u001b[0;31mAttributeError\u001b[0m: 'HBox' object has no attribute '_repr_mimebundle_'"
          ]
        },
        {
          "output_type": "execute_result",
          "data": {
            "text/plain": [
              "scanpy\t1.11.3\n",
              "pandas\t2.2.2\n",
              "----\t----\n",
              "google-cloud-bigquery-storage\t2.32.0\n",
              "google-api-core\t2.25.1\n",
              "cycler\t0.12.1\n",
              "defusedxml\t0.7.1\n",
              "google-colab\t1.0.0\n",
              "ipython\t7.34.0\n",
              "google-cloud-language\t2.17.2\n",
              "natsort\t8.4.0\n",
              "sphinxcontrib-serializinghtml\t2.0.0\n",
              "tornado\t6.4.2\n",
              "cupy-cuda12x\t13.3.0\n",
              "pytz\t2025.2\n",
              "pexpect\t4.9.0\n",
              "googleapis-common-protos\t1.70.0\n",
              "pickleshare\t0.7.5\n",
              "Jinja2\t3.1.6\n",
              "google-resumable-media\t2.7.2\n",
              "igraph\t0.11.9\n",
              "pillow\t11.2.1\n",
              "google-auth\t2.38.0\n",
              "pycairo\t1.28.0\n",
              "certifi\t2025.6.15 (2025.06.15)\n",
              "anndata\t0.11.4\n",
              "scikit-learn\t1.6.1\n",
              "pytest\t8.3.5\n",
              "ipython-genutils\t0.2.0\n",
              "jupyter-client\t6.1.12\n",
              "backports.tarfile\t1.2.0\n",
              "dill\t0.3.7\n",
              "debugpy\t1.8.0\n",
              "fastrlock\t0.8.3\n",
              "session-info2\t0.1.2\n",
              "more-itertools\t10.7.0\n",
              "numpy\t2.0.2\n",
              "jaraco.text\t3.12.1\n",
              "google-generativeai\t0.8.5\n",
              "pyarrow\t18.1.0\n",
              "Cython\t3.0.12\n",
              "traitlets\t5.7.1\n",
              "legacy-api-wrap\t1.4.1\n",
              "MarkupSafe\t3.0.2\n",
              "toolz\t0.12.1\n",
              "google-cloud-iam\t2.19.1\n",
              "h5py\t3.14.0\n",
              "jaraco.classes\t3.4.0\n",
              "google-cloud-translate\t3.21.1\n",
              "google-ai-generativelanguage\t0.6.15\n",
              "portpicker\t1.5.2\n",
              "sphinxcontrib-qthelp\t2.0.0\n",
              "psutil\t5.9.5\n",
              "Pygments\t2.19.2\n",
              "jaraco.collections\t5.1.0\n",
              "google-cloud-datastore\t2.21.0\n",
              "sphinxcontrib-jsmath\t1.0.1\n",
              "pathlib\t1.0.1\n",
              "google-cloud-core\t2.4.3\n",
              "google-cloud-functions\t1.20.4\n",
              "pyparsing\t3.2.3\n",
              "decorator\t4.4.2\n",
              "charset-normalizer\t3.4.2\n",
              "omegaconf\t2.3.0\n",
              "google-genai\t1.24.0\n",
              "jupyter_core\t5.8.1\n",
              "google-cloud-firestore\t2.21.0\n",
              "joblib\t1.5.1\n",
              "llvmlite\t0.43.0\n",
              "iniconfig\t2.1.0\n",
              "packaging\t24.2\n",
              "Bottleneck\t1.4.2\n",
              "jaraco.functools\t4.2.1\n",
              "matplotlib-inline\t0.1.7\n",
              "wcwidth\t0.2.13\n",
              "platformdirs\t4.3.8\n",
              "ipykernel\t6.17.1\n",
              "importlib_metadata\t8.7.0\n",
              "grpc-google-iam-v1\t0.14.2\n",
              "xxhash\t3.5.0\n",
              "typing_extensions\t4.14.0\n",
              "httplib2\t0.22.0\n",
              "prompt_toolkit\t3.0.51\n",
              "astunparse\t1.6.3\n",
              "setuptools\t75.2.0\n",
              "sphinxcontrib-htmlhelp\t2.1.0\n",
              "python-dateutil\t2.9.0.post0\n",
              "matplotlib\t3.10.0\n",
              "pluggy\t1.6.0\n",
              "leidenalg\t0.10.2\n",
              "jaraco.context\t6.0.1\n",
              "google-cloud-storage\t2.19.0\n",
              "numba\t0.60.0\n",
              "sphinxcontrib-devhelp\t2.0.0\n",
              "pyzmq\t24.0.1\n",
              "ptyprocess\t0.7.0\n",
              "pydot\t3.0.4\n",
              "google-cloud-bigquery-connection\t1.18.3\n",
              "google-cloud-resource-manager\t1.14.2\n",
              "zipp\t3.23.0\n",
              "google-cloud-dataproc\t5.21.0\n",
              "texttable\t1.7.0\n",
              "kiwisolver\t1.4.8\n",
              "google-cloud-aiplatform\t1.101.0\n",
              "cloudpickle\t3.1.1\n",
              "nvidia-ml-py\t12.575.51\n",
              "PySocks\t1.7.1\n",
              "google-cloud-bigquery\t3.34.0\n",
              "numexpr\t2.11.0\n",
              "PyYAML\t6.0.2\n",
              "sphinxcontrib-applehelp\t2.0.0\n",
              "tqdm\t4.67.1\n",
              "backcall\t0.2.0\n",
              "threadpoolctl\t3.6.0\n",
              "dataproc-spark-connect\t0.8.1\n",
              "plotly\t5.24.1\n",
              "torch\t2.6.0+cu124\n",
              "scipy\t1.15.3\n",
              "importlib-metadata\t8.7.0\n",
              "dask\t2024.12.1\n",
              "google-cloud-spanner\t3.55.0\n",
              "protobuf\t5.29.5\n",
              "six\t1.17.0\n",
              "tblib\t3.1.0\n",
              "rapids-dask-dependency\t25.2.0\n",
              "----\t----\n",
              "Python\t3.11.13 (main, Jun  4 2025, 08:57:29) [GCC 11.4.0]\n",
              "OS\tLinux-6.1.123+-x86_64-with-glibc2.35\n",
              "CPU\t2 logical CPU cores, x86_64\n",
              "GPU\tNo GPU found\n",
              "Updated\t2025-07-08 23:47"
            ]
          },
          "metadata": {},
          "execution_count": 3
        }
      ],
      "source": [
        "import os\n",
        "\n",
        "import scanpy as sc\n",
        "import pandas as pd\n",
        "\n",
        "# change to working directory\n",
        "os.chdir(\"scRNA_workshop\")"
      ]
    },
    {
      "cell_type": "markdown",
      "metadata": {
        "id": "ptMIeRZCkR-Y"
      },
      "source": [
        "### Reading in files for analysis\n",
        "\n",
        "For this demo, we have already saved the starting raw datafile as an `.h5ad` file which is a common file format used in single-cell analysis. You can read in the file using the `read_h5ad` function from [`anndata`](https://anndata.readthedocs.io/) package.\n",
        "\n",
        "This file contains the raw counts of the cells and genes, as well as the metadata associated with the cells and genes.\n",
        "\n",
        "The file is saved in the `data` folder.\n",
        "\n",
        "\n",
        "<a href=\"https://anndata.readthedocs.io/\"><img src=\"https://raw.githubusercontent.com/scverse/anndata/main/docs/_static/img/anndata_schema.svg\" alt=\"anndata_schema\" width=\"500\">"
      ]
    },
    {
      "cell_type": "markdown",
      "metadata": {
        "id": "cnhzn07yoAGb"
      },
      "source": [
        "The dataset we will be demo-ing today is on the human prostate.\n",
        "\n",
        "<a href=\"https://www.frontiersin.org/journals/endocrinology/articles/10.3389/fendo.2022.1006101/full\"><img src=\"https://www.frontiersin.org/files/Articles/1006101/fendo-13-1006101-HTML-r1/image_m/fendo-13-1006101-g001.jpg\" alt=\"human prostate schema\" width=\"500\">\n"
      ]
    },
    {
      "cell_type": "code",
      "execution_count": null,
      "metadata": {
        "id": "4LpdCxz_kR-Y"
      },
      "outputs": [],
      "source": [
        "adata = sc.read_h5ad(\"data/prostate_demo.h5ad\")\n",
        "adata"
      ]
    },
    {
      "cell_type": "markdown",
      "metadata": {
        "id": "ihLX30LheWaQ"
      },
      "source": [
        "## Standard Quality control\n",
        "\n",
        "A very common QC step is to assess the mitochondrial content.\n",
        "\n",
        "High mitochondrial content is often associated with poor quality cells. We can calculate the percentage of mitochondrial genes in each cell and plot it."
      ]
    },
    {
      "cell_type": "code",
      "execution_count": null,
      "metadata": {
        "id": "TGb0oRl-eWaQ"
      },
      "outputs": [],
      "source": [
        "# mitochondrial genes, \"MT-\" for human, \"Mt-\" for mouse\n",
        "adata.var[\"mt\"] = adata.var_names.str.startswith(\"MT-\")\n",
        "sc.pp.calculate_qc_metrics(\n",
        "    adata,\n",
        "    qc_vars=[\n",
        "        \"mt\",\n",
        "    ],\n",
        "    inplace=True,\n",
        "    log1p=True,\n",
        ")"
      ]
    },
    {
      "cell_type": "code",
      "execution_count": null,
      "metadata": {
        "id": "gIpaxuPOeWaQ"
      },
      "outputs": [],
      "source": [
        "sc.pl.violin(\n",
        "    adata,\n",
        "    [\n",
        "        \"n_genes_by_counts\",  # the number of genes expressed in the count matrix\n",
        "        \"total_counts\",  # the total umi counts per cell\n",
        "        \"pct_counts_mt\",  # the percentage of counts in mitochondrial/ribosomal genes\n",
        "    ],\n",
        "    jitter=0.4,\n",
        "    multi_panel=True,\n",
        ")"
      ]
    },
    {
      "cell_type": "code",
      "execution_count": null,
      "metadata": {
        "id": "ur_v3dWjeWaQ"
      },
      "outputs": [],
      "source": [
        "sc.pl.violin(\n",
        "    adata,\n",
        "    [\n",
        "        \"n_genes_by_counts\",\n",
        "        \"total_counts\",\n",
        "        \"pct_counts_mt\",\n",
        "    ],\n",
        "    jitter=0.4,\n",
        "    groupby=\"name\",\n",
        "    multi_panel=True,\n",
        "    rotation=90,\n",
        ")"
      ]
    },
    {
      "cell_type": "markdown",
      "metadata": {
        "id": "VRMfMvoJkR-a"
      },
      "source": [
        "Continue processing with \"good\" cells only.."
      ]
    },
    {
      "cell_type": "code",
      "execution_count": null,
      "metadata": {
        "id": "gFUet2zPkR-a"
      },
      "outputs": [],
      "source": [
        "# filter cells if they do not express at least 200 genes\n",
        "sc.pp.filter_cells(adata, min_genes=200)\n",
        "# filter genes if they are expressed in at least 3 cells\n",
        "sc.pp.filter_genes(adata, min_cells=3)\n",
        "# always check after you have done some filtering to ensure that you are happy with the results\n",
        "adata"
      ]
    },
    {
      "cell_type": "markdown",
      "metadata": {
        "id": "hMTXCmYwkR-b"
      },
      "source": [
        "## Normalisation"
      ]
    },
    {
      "cell_type": "code",
      "execution_count": null,
      "metadata": {
        "id": "31GZf02qkR-j"
      },
      "outputs": [],
      "source": [
        "# Normalise (library-size correct) the data matrix 𝐗 to 10,000 counts per cell, so that information become comparable between cells.\n",
        "sc.pp.normalize_total(adata, target_sum=1e4)\n",
        "\n",
        "# Logarithmise the data:\n",
        "sc.pp.log1p(adata)"
      ]
    },
    {
      "cell_type": "markdown",
      "metadata": {
        "id": "S5sS4-TveWaQ"
      },
      "source": [
        "## Highly Variable Feature/Gene selection"
      ]
    },
    {
      "cell_type": "markdown",
      "metadata": {
        "id": "nOtGQx1GkR-k"
      },
      "source": [
        "Identify and inspect highly-variable genes"
      ]
    },
    {
      "cell_type": "code",
      "execution_count": null,
      "metadata": {
        "id": "laIpQxySkR-k"
      },
      "outputs": [],
      "source": [
        "# (Expects logarithimised data)\n",
        "sc.pp.highly_variable_genes(adata, min_mean=0.0125, max_mean=3, min_disp=0.5)\n",
        "sc.pl.highly_variable_genes(adata)\n",
        "# stash the normalised counts in .raw, before we subset to only highly variable genes\n",
        "adata.raw = adata"
      ]
    },
    {
      "cell_type": "markdown",
      "metadata": {
        "id": "Ob6rvq5DkR-o"
      },
      "source": [
        "## Dimensionality Reduction"
      ]
    },
    {
      "cell_type": "markdown",
      "metadata": {
        "id": "Vu0IpuaAkR-o"
      },
      "source": [
        "### Step 1: Subset to only highly variable genes"
      ]
    },
    {
      "cell_type": "code",
      "execution_count": null,
      "metadata": {
        "id": "ujCYgSqikR-o",
        "scrolled": true
      },
      "outputs": [],
      "source": [
        "# Actually do the filtering for PCA\n",
        "adata = adata[:, adata.var[\"highly_variable\"] == True]\n",
        "adata"
      ]
    },
    {
      "cell_type": "markdown",
      "metadata": {
        "id": "SpJWxehWkR-o"
      },
      "source": [
        "### Step 2: Regress out effects of \"total_counts\" per cell and percentage of mitochondrial genes expressed"
      ]
    },
    {
      "cell_type": "code",
      "execution_count": null,
      "metadata": {
        "id": "FJnkYcs4kR-p"
      },
      "outputs": [],
      "source": [
        "# sc.pp.regress_out(adata, [\"total_counts\", \"pct_counts_mt\"])"
      ]
    },
    {
      "cell_type": "markdown",
      "metadata": {
        "id": "42fj9mNVkR-p"
      },
      "source": [
        "### Step 3: Scale each gene to unit variance. Clip values exceeding standard deviation of 10."
      ]
    },
    {
      "cell_type": "code",
      "execution_count": null,
      "metadata": {
        "id": "ek0WgP_6kR-p"
      },
      "outputs": [],
      "source": [
        "sc.pp.scale(adata, max_value=10)"
      ]
    },
    {
      "cell_type": "markdown",
      "metadata": {
        "id": "fb03DQEIeWaU"
      },
      "source": [
        "### Step 4: Perform Principal Component Analysis (PCA)"
      ]
    },
    {
      "cell_type": "code",
      "execution_count": null,
      "metadata": {
        "id": "teCcK9a9kR-p"
      },
      "outputs": [],
      "source": [
        "sc.tl.pca(adata)\n",
        "# visualise the variance contribution by each PC\n",
        "sc.pl.pca_variance_ratio(adata, log=True, n_pcs=50)"
      ]
    },
    {
      "cell_type": "markdown",
      "metadata": {
        "id": "Q2EN9MnPeWaU"
      },
      "source": [
        "### Step 5: Compute neighbourhood graph"
      ]
    },
    {
      "cell_type": "code",
      "execution_count": null,
      "metadata": {
        "id": "hRv3VFrkkR-p"
      },
      "outputs": [],
      "source": [
        "sc.pp.neighbors(adata, n_neighbors=10, n_pcs=40)"
      ]
    },
    {
      "cell_type": "markdown",
      "metadata": {
        "id": "FtYnUP9CkR-p"
      },
      "source": [
        "### Step 6: Embed the neighbourhood graph using UMAP\n",
        "\n",
        "UMAP stands for Uniform Manifold Approximation and Projection. It is a non-linear dimensionality reduction technique that is well-suited for preserving local structure in high-dimensional data."
      ]
    },
    {
      "cell_type": "code",
      "execution_count": null,
      "metadata": {
        "id": "0iNxC3D2kR-q"
      },
      "outputs": [],
      "source": [
        "sc.tl.umap(adata)"
      ]
    },
    {
      "cell_type": "markdown",
      "metadata": {
        "id": "AXE8XTElkR-q"
      },
      "source": [
        "#### Visualise UMAP:"
      ]
    },
    {
      "cell_type": "code",
      "execution_count": null,
      "metadata": {
        "id": "wESPRZGBkR-q"
      },
      "outputs": [],
      "source": [
        "sc.pl.umap(adata, color=[\"patient\", \"group\", \"age\"])"
      ]
    },
    {
      "cell_type": "markdown",
      "metadata": {
        "id": "6SYOA06-eWaU"
      },
      "source": [
        "### Reapeat with batch correction!\n",
        "\n",
        "Harmony is a popular batch correction tool that iteratively learns a cell-specific linear correction function at the level of PCA space. It is a very powerful tool for batch correction in single-cell analysis.\n",
        "\n",
        "It can project cells into a shared embedding in which cells group by cell type rather than dataset-specific conditions, simultaneously accounts for multiple experimental and biological factors."
      ]
    },
    {
      "cell_type": "code",
      "execution_count": null,
      "metadata": {
        "id": "_DOmlGPkfXXq"
      },
      "outputs": [],
      "source": [
        "# first let's install harmony\n",
        "!pip install -qqq harmonypy"
      ]
    },
    {
      "cell_type": "code",
      "execution_count": null,
      "metadata": {
        "id": "vuVFdnr-eWaV"
      },
      "outputs": [],
      "source": [
        "sc.external.pp.harmony_integrate(adata, key=\"barcode\")"
      ]
    },
    {
      "cell_type": "code",
      "execution_count": null,
      "metadata": {
        "id": "8lCDJj2FeWaV"
      },
      "outputs": [],
      "source": [
        "adata"
      ]
    },
    {
      "cell_type": "code",
      "execution_count": null,
      "metadata": {
        "id": "EpYWj6bheWaV"
      },
      "outputs": [],
      "source": [
        "sc.pp.neighbors(adata, n_neighbors=10, use_rep=\"X_pca_harmony\")"
      ]
    },
    {
      "cell_type": "code",
      "execution_count": null,
      "metadata": {
        "id": "XUO9-Jj4eWaV"
      },
      "outputs": [],
      "source": [
        "sc.tl.umap(adata)"
      ]
    },
    {
      "cell_type": "code",
      "execution_count": null,
      "metadata": {
        "id": "SgAI4UCreWaV"
      },
      "outputs": [],
      "source": [
        "sc.pl.umap(adata, color=[\"patient\"])"
      ]
    },
    {
      "cell_type": "markdown",
      "metadata": {
        "id": "hSbZsW6NeWaV"
      },
      "source": [
        "### Step 6: Clustering\n",
        "\n",
        "We will use the `leiden` algorithm to cluster the cells into different groups. It is a graph-based clustering algorithm that is very popular in single-cell analysis. It is based on optimizing a modularity function that is used to detect communities in networks. It has a resolution parameter that can be tuned to get different levels of granularity in the clustering."
      ]
    },
    {
      "cell_type": "code",
      "execution_count": null,
      "metadata": {
        "id": "2aQ0348JeWaV"
      },
      "outputs": [],
      "source": [
        "sc.tl.leiden(adata, resolution=0.5)"
      ]
    },
    {
      "cell_type": "code",
      "execution_count": null,
      "metadata": {
        "id": "o5OaIxxBeWaV"
      },
      "outputs": [],
      "source": [
        "sc.pl.umap(adata, color=\"leiden\")"
      ]
    },
    {
      "cell_type": "code",
      "execution_count": null,
      "metadata": {
        "id": "6mag-VwgeWaV"
      },
      "outputs": [],
      "source": [
        "sc.pl.umap(adata, color=\"leiden\", legend_loc=\"on data\", legend_fontoutline=2)"
      ]
    },
    {
      "cell_type": "markdown",
      "metadata": {
        "id": "IjELBzUYeWaV"
      },
      "source": [
        "### Step 7: Cell type annotation\n",
        "\n",
        "From here on, the analysis will be more focused on the biological interpretation of the clusters. We will use marker genes to annotate the clusters with cell types.\n",
        "\n",
        "The way to approach this can vary and I will first show using a statistical test to identify marker genes for each cluster. We will use the `rank_genes_groups` function from `scanpy` to identify marker genes for each cluster."
      ]
    },
    {
      "cell_type": "markdown",
      "metadata": {
        "id": "MLambNbaeWaV"
      },
      "source": [
        "### 7.1: Rank genes per cluster using Wilcoxon rank-sum test"
      ]
    },
    {
      "cell_type": "code",
      "execution_count": null,
      "metadata": {
        "id": "jTCQNUDzeWaV"
      },
      "outputs": [],
      "source": [
        "sc.tl.rank_genes_groups(adata, groupby=\"leiden\")"
      ]
    },
    {
      "cell_type": "markdown",
      "metadata": {
        "id": "lE4sqC_reWaV"
      },
      "source": [
        "Let's visualise the top statistically significant marker genes for each cluster."
      ]
    },
    {
      "cell_type": "code",
      "execution_count": null,
      "metadata": {
        "id": "Kb-9CUFTeWaV"
      },
      "outputs": [],
      "source": [
        "sc.pl.rank_genes_groups(adata, n_genes=25, sharey=False)"
      ]
    },
    {
      "cell_type": "markdown",
      "metadata": {
        "id": "dvV1f8E7eWaV"
      },
      "source": [
        "We can also visualise this as a dot plot."
      ]
    },
    {
      "cell_type": "code",
      "execution_count": null,
      "metadata": {
        "id": "ti35jfX4eWaV"
      },
      "outputs": [],
      "source": [
        "sc.pl.rank_genes_groups_dotplot(\n",
        "    adata, n_genes=3, color_map=\"Blues\", standard_scale=\"var\", min_logfoldchange=1\n",
        ")"
      ]
    },
    {
      "cell_type": "markdown",
      "metadata": {
        "id": "l4T41aF_eWaV"
      },
      "source": [
        "### 7.2: Manually select marker genes\n",
        "\n",
        "Ask yourself, what are relevant genes for each cluster? What are the marker genes that you would expect to see?"
      ]
    },
    {
      "cell_type": "code",
      "execution_count": null,
      "metadata": {
        "id": "sMftkuVdeWaV"
      },
      "outputs": [],
      "source": [
        "marker_genes = {\n",
        "    \"\": [\n",
        "        \"\",\n",
        "    ],\n",
        "}"
      ]
    },
    {
      "cell_type": "code",
      "execution_count": null,
      "metadata": {
        "id": "yj1_xqT3eWaV"
      },
      "outputs": [],
      "source": [
        "sc.pl.dotplot(\n",
        "    adata,\n",
        "    marker_genes,\n",
        "    groupby=\"leiden\",\n",
        "    standard_scale=\"var\",\n",
        "    color_map=\"Blues\",\n",
        ")"
      ]
    },
    {
      "cell_type": "code",
      "execution_count": null,
      "metadata": {
        "id": "Gkk2iuw5eWaV"
      },
      "outputs": [],
      "source": [
        "sc.pl.umap(adata, color=[])"
      ]
    },
    {
      "cell_type": "markdown",
      "metadata": {
        "id": "BpKXKnuPeWaV"
      },
      "source": [
        "### Transfer the annotations"
      ]
    },
    {
      "cell_type": "code",
      "execution_count": null,
      "metadata": {
        "id": "mEXr6LJQeWaV"
      },
      "outputs": [],
      "source": [
        "cell_types = {\n",
        "    \"0\": \"\",\n",
        "    \"1\": \"\",\n",
        "    \"2\": \"\",\n",
        "    \"3\": \"\",\n",
        "    \"4\": \"\",\n",
        "    \"5\": \"\",\n",
        "    \"6\": \"\",\n",
        "    \"7\": \"\",\n",
        "    \"8\": \"\",\n",
        "    \"9\": \"\",\n",
        "    \"10\": \"\",\n",
        "    \"11\": \"\",\n",
        "    \"12\": \"\",\n",
        "    \"13\": \"\",\n",
        "    \"14\": \"\",\n",
        "    \"15\": \"\",\n",
        "    \"16\": \"\",\n",
        "    \"17\": \"\",\n",
        "    \"18\": \"\",\n",
        "    \"19\": \"\",\n",
        "}\n",
        "\n",
        "adata.obs[\"cell_type\"] = [cell_types[x] for x in adata.obs[\"leiden\"]]"
      ]
    },
    {
      "cell_type": "code",
      "execution_count": null,
      "metadata": {
        "id": "C_2LDfLBeWaW"
      },
      "outputs": [],
      "source": [
        "sc.pl.umap(adata, color=\"cell_type\", legend_loc=\"on data\", legend_fontoutline=2)"
      ]
    },
    {
      "cell_type": "markdown",
      "metadata": {
        "id": "tgYTWkO6eWaW"
      },
      "source": [
        "### 7.3: CellTypist\n",
        "\n",
        "[`CellTypist`](https://www.celltypist.org/) is a tool that uses a machine learning model to predict cell types based on marker genes. It is a very powerful tool that can be used to predict cell types in single-cell data.\n",
        "\n",
        "First, install `celltypist` and prepare the data."
      ]
    },
    {
      "cell_type": "code",
      "execution_count": null,
      "metadata": {
        "id": "sp1ESlEbgdM8"
      },
      "outputs": [],
      "source": [
        "# save the log1p normalised data for celltypist\n",
        "adata.raw.to_adata().write_h5ad(\"data/for_celltypist.h5ad\", compression=\"gzip\")"
      ]
    },
    {
      "cell_type": "code",
      "execution_count": null,
      "metadata": {
        "id": "S55I2Cc0gTXN"
      },
      "outputs": [],
      "source": [
        "!pip install -qqq celltypist\n",
        "# the session might crash after running this step as we are installing numpy. Don't worry. just reconnect and then continue with the rest below.\n",
        "!celltypist --update-models"
      ]
    },
    {
      "cell_type": "markdown",
      "metadata": {
        "id": "DiFbZvNZeWaW"
      },
      "source": [
        "Make a directory for the output after running celltypist on our data"
      ]
    },
    {
      "cell_type": "code",
      "execution_count": null,
      "metadata": {
        "id": "vK6nUcD6eWaW"
      },
      "outputs": [],
      "source": [
        "!mkdir celltypist_output"
      ]
    },
    {
      "cell_type": "markdown",
      "metadata": {
        "id": "OFr488TaeWaW"
      },
      "source": [
        "Run celltypist on our data and allow it to predict labels on each single cell with all the specifications needed."
      ]
    },
    {
      "cell_type": "code",
      "execution_count": null,
      "metadata": {
        "id": "9uVVzFhmeWaW"
      },
      "outputs": [],
      "source": [
        "!celltypist --indata data/for_celltypist.h5ad --model Immune_All_Low.pkl --outdir celltypist_output --majority-voting"
      ]
    },
    {
      "cell_type": "markdown",
      "metadata": {
        "id": "2um06e95eWaW"
      },
      "source": [
        "Import and label the object for `predicted_labels.csv` as `celltypist_result`."
      ]
    },
    {
      "cell_type": "code",
      "execution_count": null,
      "metadata": {
        "id": "bXkYxr8NeWaW"
      },
      "outputs": [],
      "source": [
        "celltypist_result = pd.read_csv(\"celltypist_output/predicted_labels.csv\", index_col=0)\n",
        "celltypist_result"
      ]
    },
    {
      "cell_type": "markdown",
      "metadata": {
        "id": "zwAEW1k0eWaW"
      },
      "source": [
        "Transfer the celltypist results to the main data object."
      ]
    },
    {
      "cell_type": "code",
      "execution_count": null,
      "metadata": {
        "id": "BzxcmuFoeWaW"
      },
      "outputs": [],
      "source": [
        "adata.obs[\"celltypist_majority_voting\"] = celltypist_result[\"majority_voting\"]\n",
        "adata.obs"
      ]
    },
    {
      "cell_type": "markdown",
      "metadata": {
        "id": "h9Uf3-vJeWaW"
      },
      "source": [
        "Visualise the data via umap with the new celltypist labels"
      ]
    },
    {
      "cell_type": "code",
      "execution_count": null,
      "metadata": {
        "id": "poeiyAmgeWaW"
      },
      "outputs": [],
      "source": [
        "sc.pl.umap(adata, color=[\"celltypist_majority_voting\"])"
      ]
    },
    {
      "cell_type": "markdown",
      "metadata": {
        "id": "JsG2NlDIeWaW"
      },
      "source": [
        "### Let's save this result"
      ]
    },
    {
      "cell_type": "code",
      "execution_count": null,
      "metadata": {
        "id": "-QcIl17teWaW"
      },
      "outputs": [],
      "source": [
        "adata.write_h5ad(\"data/prostate_demo_processed.h5ad\", compression=\"gzip\")"
      ]
    },
    {
      "cell_type": "markdown",
      "metadata": {
        "id": "RBalqywZeWaW"
      },
      "source": [
        "### Let's five a bit deeper into the T cells."
      ]
    },
    {
      "cell_type": "code",
      "execution_count": null,
      "metadata": {
        "id": "2DGc-Sg7kR-r",
        "scrolled": true
      },
      "outputs": [],
      "source": [
        "# adata = sc.read_h5ad(\"prostate_demo_processed.h5ad\")\n",
        "adata_T = adata[adata.obs[\"cell_type\"] == \"T\"]\n",
        "adata_T"
      ]
    },
    {
      "cell_type": "markdown",
      "metadata": {
        "id": "Q6dk2ZLFeWaW"
      },
      "source": [
        "Let's re-cluster the T cells and visualise the data. We need to start from the step where most of the gene expression data has been normalised but not filtered yet i.e. is still intact, as we need to calculate the highly variable genes again. This time, the highly variable genes will be specific for the T cell sub-clusters. Lucky for us, we actually did store this step in the `.raw` slot.\n",
        "\n",
        "### Continue the rest of the steps as before."
      ]
    },
    {
      "cell_type": "code",
      "execution_count": null,
      "metadata": {
        "id": "C9L57gvMeWaW"
      },
      "outputs": [],
      "source": [
        "adata_T = adata_T.raw.to_adata()\n",
        "adata_T"
      ]
    },
    {
      "cell_type": "code",
      "execution_count": null,
      "metadata": {
        "id": "u3cimCJpeWaW"
      },
      "outputs": [],
      "source": [
        "sc.pp.highly_variable_genes(adata_T, min_mean=0.0125, max_mean=3, min_disp=0.5)\n",
        "sc.pl.highly_variable_genes(adata_T)"
      ]
    },
    {
      "cell_type": "code",
      "execution_count": null,
      "metadata": {
        "id": "Loic58a2eWaW"
      },
      "outputs": [],
      "source": [
        "# stash what we have done in raw, before we subset the data\n",
        "adata_T.raw = adata_T\n",
        "# Actually do the filtering for PCA\n",
        "adata_T = adata_T[:, adata_T.var.highly_variable].copy()\n",
        "adata_T"
      ]
    },
    {
      "cell_type": "code",
      "execution_count": null,
      "metadata": {
        "id": "i-LUCzuceWaW"
      },
      "outputs": [],
      "source": [
        "# sc.pp.regress_out(adata_T, [\"total_counts\", \"pct_counts_mt\"])\n",
        "sc.pp.scale(adata_T, max_value=10)\n",
        "sc.tl.pca(adata_T)\n",
        "sc.pl.pca_variance_ratio(adata_T, log=True, n_pcs=50)"
      ]
    },
    {
      "cell_type": "code",
      "execution_count": null,
      "metadata": {
        "id": "XuLfmtWVeWaX"
      },
      "outputs": [],
      "source": [
        "sc.external.pp.harmony_integrate(adata_T, key=\"barcode\")\n",
        "sc.pp.neighbors(adata_T, n_neighbors=10, use_rep=\"X_pca_harmony\")\n",
        "sc.tl.umap(adata_T)"
      ]
    },
    {
      "cell_type": "code",
      "execution_count": null,
      "metadata": {
        "id": "-GK1V_HgeWaX"
      },
      "outputs": [],
      "source": [
        "sc.pl.umap(adata_T, color=[\"patient\", \"group\", \"cell_type\"])"
      ]
    },
    {
      "cell_type": "code",
      "execution_count": null,
      "metadata": {
        "id": "vRPxzslzeWaX"
      },
      "outputs": [],
      "source": [
        "sc.tl.leiden(adata_T, resolution=0.5)"
      ]
    },
    {
      "cell_type": "code",
      "execution_count": null,
      "metadata": {
        "id": "4fjRXx4IeWaX"
      },
      "outputs": [],
      "source": [
        "sc.pl.umap(adata_T, color=\"leiden\", legend_loc=\"on data\", legend_fontoutline=2)"
      ]
    },
    {
      "cell_type": "markdown",
      "metadata": {
        "id": "cESGBdD3eWaX"
      },
      "source": [
        "### How would you visualise different T cell marker genes? ❓\n",
        "\n",
        "Earlier, we saw genes CD4, CD8B. What are other cell surface markers found on T cells?\n",
        "\n",
        "Some hints from https://www.nature.com/articles/s41467-019-12464-3"
      ]
    },
    {
      "cell_type": "code",
      "execution_count": null,
      "metadata": {
        "id": "QS9J76CzeWaX"
      },
      "outputs": [],
      "source": [
        "marker_genes = [\n",
        "    \"CD4\",\n",
        "    \"CD8B\",\n",
        "    \"FOXP3\",\n",
        "    \"SELL\",\n",
        "    \"CCR7\",\n",
        "    \"MKI67\",\n",
        "    \"NKG7\",\n",
        "    \"GATA3\",\n",
        "    \"RORC\",\n",
        "    \"CXCR5\",\n",
        "    \"CD69\",\n",
        "    \"GZMK\",\n",
        "]\n",
        "sc.pl.umap(adata_T, color=marker_genes, ncols=3)"
      ]
    },
    {
      "cell_type": "code",
      "execution_count": null,
      "metadata": {
        "id": "WuRuQyopeWaX"
      },
      "outputs": [],
      "source": [
        "sc.pl.dotplot(\n",
        "    adata_T, marker_genes, groupby=\"leiden\", standard_scale=\"var\", color_map=\"Blues\"\n",
        ")"
      ]
    },
    {
      "cell_type": "markdown",
      "metadata": {
        "id": "WOrl47TmeWaX"
      },
      "source": [
        "### Transfer the annotations"
      ]
    },
    {
      "cell_type": "code",
      "execution_count": null,
      "metadata": {
        "id": "WeG8pB3TeWaX"
      },
      "outputs": [],
      "source": [
        "cell_types = {\n",
        "    \"0\": \"\",\n",
        "    \"1\": \"\",\n",
        "    \"2\": \"\",\n",
        "    \"3\": \"\",\n",
        "    \"4\": \"\",\n",
        "    \"5\": \"\",\n",
        "    \"6\": \"\",\n",
        "    \"7\": \"\",\n",
        "    \"8\": \"\",\n",
        "    \"9\": \"\",\n",
        "    \"10\": \"\",\n",
        "    \"11\": \"\",\n",
        "    \"12\": \"\",\n",
        "    \"13\": \"\",\n",
        "    \"14\": \"\",\n",
        "    \"15\": \"\",\n",
        "    \"16\": \"\",\n",
        "    \"17\": \"\",\n",
        "    \"18\": \"\",\n",
        "    \"19\": \"\",\n",
        "}\n",
        "\n",
        "adata_T.obs[\"cell_type_T\"] = [cell_types[x] for x in adata_T.obs[\"leiden\"]]"
      ]
    },
    {
      "cell_type": "code",
      "execution_count": null,
      "metadata": {
        "id": "IbEXcZJieWaX"
      },
      "outputs": [],
      "source": [
        "sc.pl.umap(adata_T, color=\"cell_type_T\", legend_loc=\"on data\", legend_fontoutline=2)"
      ]
    },
    {
      "cell_type": "code",
      "execution_count": null,
      "metadata": {
        "id": "Y_B9FBMHkR-s"
      },
      "outputs": [],
      "source": [
        "adata_T.write_h5ad(\"data/prostate_demo_processed_T.h5ad\", compression=\"gzip\")"
      ]
    },
    {
      "cell_type": "markdown",
      "metadata": {
        "id": "nNjdC73HkR_B"
      },
      "source": [
        "This marks the end of the demo. Good job!\n",
        "\n",
        "# Other useful resources\n",
        "For more details on the dataset that we demoed today, please checkout the original publication and data portal:\n",
        "\n",
        "https://www.prostatecellatlas.org/\n",
        "\n",
        "<a href=\"https://doi.org/10.1016/j.celrep.2021.110132\"><img src=\"https://www.prostatecellatlas.org/assets/cover.jpg\" alt=\"prostate_cellrep\" width=\"200\">"
      ]
    },
    {
      "cell_type": "markdown",
      "metadata": {
        "id": "yGqt0QOtnRme"
      },
      "source": [
        "If you have any questions, email Kelvin at z.tuong@uq.edu.au"
      ]
    },
    {
      "cell_type": "markdown",
      "metadata": {
        "id": "YGo3wdJHbG7Q"
      },
      "source": []
    }
  ],
  "metadata": {
    "colab": {
      "provenance": [],
      "include_colab_link": true
    },
    "kernelspec": {
      "display_name": "dandelion",
      "language": "python",
      "name": "python3"
    },
    "language_info": {
      "codemirror_mode": {
        "name": "ipython",
        "version": 3
      },
      "file_extension": ".py",
      "mimetype": "text/x-python",
      "name": "python",
      "nbconvert_exporter": "python",
      "pygments_lexer": "ipython3",
      "version": "3.11.9"
    }
  },
  "nbformat": 4,
  "nbformat_minor": 0
}